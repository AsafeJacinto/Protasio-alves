{
  "nbformat": 4,
  "nbformat_minor": 0,
  "metadata": {
    "colab": {
      "provenance": [],
      "authorship_tag": "ABX9TyPJO2+mEiHdvLXA7i0Um2HZ",
      "include_colab_link": true
    },
    "kernelspec": {
      "name": "python3",
      "display_name": "Python 3"
    },
    "language_info": {
      "name": "python"
    }
  },
  "cells": [
    {
      "cell_type": "markdown",
      "metadata": {
        "id": "view-in-github",
        "colab_type": "text"
      },
      "source": [
        "<a href=\"https://colab.research.google.com/github/AsafeJacinto/Protasio-alves/blob/Logica-de-programa%C3%A7%C3%A3o-Py/Exerc%C3%ADcios_3.ipynb\" target=\"_parent\"><img src=\"https://colab.research.google.com/assets/colab-badge.svg\" alt=\"Open In Colab\"/></a>"
      ]
    },
    {
      "cell_type": "code",
      "execution_count": null,
      "metadata": {
        "colab": {
          "base_uri": "https://localhost:8080/"
        },
        "id": "KW92dgP9nZUY",
        "outputId": "c7900652-c9b7-43f5-b73b-c7a08fe4f8b0"
      },
      "outputs": [
        {
          "output_type": "stream",
          "name": "stdout",
          "text": [
            "5\n"
          ]
        }
      ],
      "source": [
        "numero1 = 2\n",
        "numero2 = 3\n",
        "print (numero1+numero2)"
      ]
    },
    {
      "cell_type": "code",
      "source": [
        "raio = float (input (\"Digite o raio do círculo: \"))\n",
        "\n",
        "area = 3.1415*(raio**2)\n",
        "\n",
        "print (\"a área é\",area)"
      ],
      "metadata": {
        "colab": {
          "base_uri": "https://localhost:8080/"
        },
        "id": "LGtXKyVanv5X",
        "outputId": "8843b53d-ed19-43a5-b1d0-f2e95d39c88a"
      },
      "execution_count": null,
      "outputs": [
        {
          "output_type": "stream",
          "name": "stdout",
          "text": [
            "Digite o raio do círculo: 2\n",
            "a área é 12.566\n"
          ]
        }
      ]
    },
    {
      "cell_type": "code",
      "source": [
        "celcius = float (input (\"Digite a temperatura em Celcius: \"))\n",
        "Fahrenheit = celcius*1.8+32\n",
        "\n",
        "print (\"Sua temperatura em Fahrenheit é\", Fahrenheit)"
      ],
      "metadata": {
        "colab": {
          "base_uri": "https://localhost:8080/"
        },
        "id": "c_pjTo8fotkv",
        "outputId": "399adf78-6bc3-4ee0-8e26-b612d4508c9c"
      },
      "execution_count": null,
      "outputs": [
        {
          "output_type": "stream",
          "name": "stdout",
          "text": [
            "Digite a temperatura em Celcius: 32\n",
            "Sua temperatura em Fahrenheit é 89.6\n"
          ]
        }
      ]
    },
    {
      "cell_type": "code",
      "source": [
        "horas = float (input(\"Digite o tempo em horas: \"))\n",
        "minutos = horas*60\n",
        "\n",
        "print (\"Temos\", minutos, \"minutos\")"
      ],
      "metadata": {
        "colab": {
          "base_uri": "https://localhost:8080/"
        },
        "id": "kRQXWp1YpOn3",
        "outputId": "d6b7912c-2b49-4c75-e1ad-812be7e98133"
      },
      "execution_count": null,
      "outputs": [
        {
          "output_type": "stream",
          "name": "stdout",
          "text": [
            "Digite o tempo em horas: 2\n",
            "Temos 120.0 minutos\n"
          ]
        }
      ]
    },
    {
      "cell_type": "code",
      "source": [
        "a = float (input (\"Digite seu Cateto A: \"))\n",
        "b = float (input (\"Digite seu Cateto B: \"))\n",
        "\n",
        "h = ((a**2)+(b**2)) **0.5\n",
        "\n",
        "print (\"A Hipotenusa é\",h)"
      ],
      "metadata": {
        "colab": {
          "base_uri": "https://localhost:8080/"
        },
        "id": "gefDtRfBprvm",
        "outputId": "5926d0e3-1e94-4984-9062-b4187b609e3f"
      },
      "execution_count": null,
      "outputs": [
        {
          "output_type": "stream",
          "name": "stdout",
          "text": [
            "Digite seu Cateto A: 2\n",
            "Digite seu Cateto B: 2\n",
            "A Hipotenusa é 2.8284271247461903\n"
          ]
        }
      ]
    },
    {
      "cell_type": "code",
      "source": [
        "dias = float (input(\"Digite a quantidade de dias: \"))\n",
        "semana = dias//7\n",
        "resto = dias%7\n",
        "\n",
        "if semana % 2 == 0 and resto % 2 == 0:\n",
        "  print (\"Temos\", semana, \"semanas e\", resto, \"dias\")\n",
        "\n",
        "elif not semana % 2 == 0  and not resto % 2 == 0:\n",
        "  print (\"Temos\", semana, \"semana e\", resto, \"dia\")\n",
        "\n",
        "elif  semana % 2 == 0  and not resto % 2 == 0:\n",
        "  print (\"Temos\", semana, \"semanas e\", resto, \"dia\")\n",
        "else:\n",
        "  print (\"Temos\", semana, \"semana e\", resto, \"dias\")"
      ],
      "metadata": {
        "colab": {
          "base_uri": "https://localhost:8080/"
        },
        "id": "CooPYHKDrshF",
        "outputId": "4e52b987-966e-47d8-aec5-d5028fe6f36c"
      },
      "execution_count": null,
      "outputs": [
        {
          "output_type": "stream",
          "name": "stdout",
          "text": [
            "Digite a quantidade de dias: 15\n",
            "Temos 2.0 semanas e 1.0 dia\n"
          ]
        }
      ]
    },
    {
      "cell_type": "code",
      "source": [
        "segundos = float (input (\"Digite a quantidade de segundos: \"))\n",
        "minutos = segundos //60\n",
        "resto_minutos = segundos % 60\n",
        "\n",
        "horas = minutos //60\n",
        "resto_horas = minutos%60\n",
        "\n",
        "print (\"Temos\", horas , \"horas\" , resto_horas , \"minutos e \", resto_minutos , \"segundos\")"
      ],
      "metadata": {
        "colab": {
          "base_uri": "https://localhost:8080/"
        },
        "id": "eoQIcS95v4Oy",
        "outputId": "b7136b5e-b63e-4f8f-ec82-fc38cd0dd751"
      },
      "execution_count": null,
      "outputs": [
        {
          "output_type": "stream",
          "name": "stdout",
          "text": [
            "Digite a quantidade de segundos: 50000\n",
            "Temos 13.0 horas 53.0 minutos e  20.0 segundos\n"
          ]
        }
      ]
    },
    {
      "cell_type": "code",
      "source": [
        "import math\n",
        "\n",
        "a = float (input ( \"digite o coeficiente a: \"))\n",
        "b = float (input ( \"digite o coeficiente b: \"))\n",
        "c = float (input ( \"digite o coeficiente c: \"))\n",
        "\n",
        "delta = (b**2) - (4 * a * c)\n",
        "\n",
        "\n",
        "if delta >= 0:\n",
        "  b_mais = (-b + math.sqrt (delta)) / 2 * a\n",
        "  b_menos = (-b - math.sqrt (delta)) / 2 * a\n",
        "\n",
        "  print (\" Os resultados são\", b_mais , \"ou\" , b_menos)\n",
        "\n",
        "else:\n",
        "  print (\"não existe raiz\")"
      ],
      "metadata": {
        "colab": {
          "base_uri": "https://localhost:8080/"
        },
        "id": "h2Xh5615VFpR",
        "outputId": "f5dc59d0-bdf0-438f-9d7c-5004e167fa50"
      },
      "execution_count": 7,
      "outputs": [
        {
          "output_type": "stream",
          "name": "stdout",
          "text": [
            "digite o coeficiente a: 2\n",
            "digite o coeficiente b: 4\n",
            "digite o coeficiente c: -6\n",
            " Os resultados são 4.0 ou -12.0\n"
          ]
        }
      ]
    },
    {
      "cell_type": "code",
      "source": [
        "produto = float (input (\"Digite o valor do produto: \"))\n",
        "\n",
        "desconto = produto * 0.9\n",
        "\n",
        "print (\"O valor com desconto é\", desconto)"
      ],
      "metadata": {
        "colab": {
          "base_uri": "https://localhost:8080/"
        },
        "id": "2Mx5yVjOa3BL",
        "outputId": "0cff681c-ca10-4497-ce25-906a25387cdb"
      },
      "execution_count": 11,
      "outputs": [
        {
          "output_type": "stream",
          "name": "stdout",
          "text": [
            "Digite o valor do produto: 180\n",
            "O valor com desconto é 162.0\n"
          ]
        }
      ]
    },
    {
      "cell_type": "code",
      "source": [
        "import math\n",
        "\n",
        "raio = float(input(\"Digite o raio: \"))\n",
        "radiano = float(input(\"Digite o ângulo em radianos: \"))\n",
        "\n",
        "x = raio * math.cos(radiano)\n",
        "y = raio * math.sin(radiano)\n",
        "\n",
        "print(\"Temos as seguintes coordenadas: x =\", x, \" e y =\", y)\n"
      ],
      "metadata": {
        "colab": {
          "base_uri": "https://localhost:8080/"
        },
        "id": "pFoK6R2Cbgva",
        "outputId": "d564442c-5e5b-4213-a800-87fe165c65cc"
      },
      "execution_count": 12,
      "outputs": [
        {
          "output_type": "stream",
          "name": "stdout",
          "text": [
            "Digite o raio: 2\n",
            "Digite o ângulo em radianos: 4\n",
            "Temos as seguintes coordenadas: x = -1.3072872417272239  e y = -1.5136049906158564\n"
          ]
        }
      ]
    }
  ]
}