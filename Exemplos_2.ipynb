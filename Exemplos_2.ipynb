{
  "nbformat": 4,
  "nbformat_minor": 0,
  "metadata": {
    "colab": {
      "provenance": [],
      "authorship_tag": "ABX9TyO0cvxGIR+LQEO4ZbfvjoDX",
      "include_colab_link": true
    },
    "kernelspec": {
      "name": "python3",
      "display_name": "Python 3"
    },
    "language_info": {
      "name": "python"
    }
  },
  "cells": [
    {
      "cell_type": "markdown",
      "metadata": {
        "id": "view-in-github",
        "colab_type": "text"
      },
      "source": [
        "<a href=\"https://colab.research.google.com/github/AsafeJacinto/Protasio-alves/blob/Logica-de-programa%C3%A7%C3%A3o-Py/Exemplos_2.ipynb\" target=\"_parent\"><img src=\"https://colab.research.google.com/assets/colab-badge.svg\" alt=\"Open In Colab\"/></a>"
      ]
    },
    {
      "cell_type": "code",
      "execution_count": null,
      "metadata": {
        "id": "FmpHKdo5uzFd"
      },
      "outputs": [],
      "source": [
        "num1 = float(input(\"Digite o primeiro número:  \"))\n",
        "num2 = float(input(\"Digite o segundo número:  \"))\n",
        "num3 = float(input(\"Digite o terceiro número:  \"))\n",
        "\n",
        "media = (num1+num2+num3)/3\n",
        "\n",
        "print (\"A média aritmética é\", media)"
      ]
    },
    {
      "cell_type": "code",
      "source": [
        "ano_nasc = float(input(\"Digite o ano de nascimento:  \"))\n",
        "ano_atual = float(input(\"Digite o Ano atual:  \"))\n",
        "\n",
        "idade = ano_atual-ano_nasc\n",
        "\n",
        "print (\"Sua idade é\", idade)"
      ],
      "metadata": {
        "id": "1qYHj-20u13G"
      },
      "execution_count": null,
      "outputs": []
    },
    {
      "cell_type": "code",
      "source": [
        "peso = float(input(\"Digite o seu peso em kg: \"))\n",
        "altura = float(input(\"Digite a sua altura em metros: \"))\n",
        "\n",
        "indice = peso / altura**2\n",
        "\n",
        "print(\"Seu IMC é\", indice)"
      ],
      "metadata": {
        "id": "JAx1ejmau3_7"
      },
      "execution_count": null,
      "outputs": []
    }
  ]
}