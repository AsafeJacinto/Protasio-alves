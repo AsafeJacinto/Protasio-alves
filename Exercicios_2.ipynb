{
  "nbformat": 4,
  "nbformat_minor": 0,
  "metadata": {
    "colab": {
      "provenance": [],
      "authorship_tag": "ABX9TyM81wKG+SLnr+TvqUP4uLTr",
      "include_colab_link": true
    },
    "kernelspec": {
      "name": "python3",
      "display_name": "Python 3"
    },
    "language_info": {
      "name": "python"
    }
  },
  "cells": [
    {
      "cell_type": "markdown",
      "metadata": {
        "id": "view-in-github",
        "colab_type": "text"
      },
      "source": [
        "<a href=\"https://colab.research.google.com/github/AsafeJacinto/Protasio-alves/blob/Logica-de-programa%C3%A7%C3%A3o-Py/Exercicios_2.ipynb\" target=\"_parent\"><img src=\"https://colab.research.google.com/assets/colab-badge.svg\" alt=\"Open In Colab\"/></a>"
      ]
    },
    {
      "cell_type": "code",
      "execution_count": null,
      "metadata": {
        "id": "kpU2qTFmwiqC"
      },
      "outputs": [],
      "source": [
        "distancia = float(input(\"Digite a distância a ser percorrida (km)\"))\n",
        "velocidade_media = float(input (\"Digite a velocidade média esperada (km/h)\"))\n",
        "tempo = distancia / velocidade_media\n",
        "\n",
        "print (\"O tempo estimado de viagem é\", tempo)"
      ]
    },
    {
      "cell_type": "code",
      "source": [
        "P1 = float(input(\"Digite a nota da P1\"))\n",
        "P2 = float(input(\"Digite a nota da P2\"))\n",
        "TF = float(input(\"Digite a nota da TF\"))\n",
        "nota_final = (P1*0.2)+(P2*0.3)+(TF*0.5)\n",
        "\n",
        "print(\"A sua nota final é\", nota_final)"
      ],
      "metadata": {
        "id": "q9emDVN6wkGN"
      },
      "execution_count": null,
      "outputs": []
    }
  ]
}